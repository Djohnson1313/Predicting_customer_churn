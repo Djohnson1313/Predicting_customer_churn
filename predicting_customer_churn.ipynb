{
 "cells": [
  {
   "cell_type": "markdown",
   "metadata": {},
   "source": [
    "# Title\n",
    "## name\n",
    "date\n",
    "\n",
    "instructor \n",
    "\n",
    "blog\n",
    "\n",
    "student pace"
   ]
  },
  {
   "cell_type": "markdown",
   "metadata": {},
   "source": [
    "## Business Understanding "
   ]
  },
  {
   "cell_type": "markdown",
   "metadata": {},
   "source": [
    "## Data Distribution"
   ]
  },
  {
   "cell_type": "code",
   "execution_count": 65,
   "metadata": {},
   "outputs": [],
   "source": [
    "import pandas as pd\n",
    "import matplotlib.pyplot as plt\n",
    "import numpy as np\n",
    "import seaborn as sns\n",
    "import statsmodels.api as sm\n",
    "from sklearn.linear_model import LogisticRegression\n",
    "from sklearn.linear_model import LinearRegression\n",
    "from sklearn.model_selection import train_test_split\n",
    "from sklearn.preprocessing import MinMaxScaler\n",
    "from sklearn.metrics import confusion_matrix\n",
    "from sklearn.metrics import ConfusionMatrixDisplay\n",
    "from imblearn.over_sampling import SMOTE"
   ]
  },
  {
   "cell_type": "markdown",
   "metadata": {},
   "source": [
    "webiste used to create [maps](https://www.mapchart.net/usa.html)"
   ]
  },
  {
   "cell_type": "code",
   "execution_count": 2,
   "metadata": {},
   "outputs": [],
   "source": [
    "df = pd.read_csv('telecom_data.zip')"
   ]
  },
  {
   "cell_type": "code",
   "execution_count": 3,
   "metadata": {
    "scrolled": true
   },
   "outputs": [
    {
     "data": {
      "text/html": [
       "<div>\n",
       "<style scoped>\n",
       "    .dataframe tbody tr th:only-of-type {\n",
       "        vertical-align: middle;\n",
       "    }\n",
       "\n",
       "    .dataframe tbody tr th {\n",
       "        vertical-align: top;\n",
       "    }\n",
       "\n",
       "    .dataframe thead th {\n",
       "        text-align: right;\n",
       "    }\n",
       "</style>\n",
       "<table border=\"1\" class=\"dataframe\">\n",
       "  <thead>\n",
       "    <tr style=\"text-align: right;\">\n",
       "      <th></th>\n",
       "      <th>state</th>\n",
       "      <th>account length</th>\n",
       "      <th>area code</th>\n",
       "      <th>phone number</th>\n",
       "      <th>international plan</th>\n",
       "      <th>voice mail plan</th>\n",
       "      <th>number vmail messages</th>\n",
       "      <th>total day minutes</th>\n",
       "      <th>total day calls</th>\n",
       "      <th>total day charge</th>\n",
       "      <th>...</th>\n",
       "      <th>total eve calls</th>\n",
       "      <th>total eve charge</th>\n",
       "      <th>total night minutes</th>\n",
       "      <th>total night calls</th>\n",
       "      <th>total night charge</th>\n",
       "      <th>total intl minutes</th>\n",
       "      <th>total intl calls</th>\n",
       "      <th>total intl charge</th>\n",
       "      <th>customer service calls</th>\n",
       "      <th>churn</th>\n",
       "    </tr>\n",
       "  </thead>\n",
       "  <tbody>\n",
       "    <tr>\n",
       "      <th>0</th>\n",
       "      <td>KS</td>\n",
       "      <td>128</td>\n",
       "      <td>415</td>\n",
       "      <td>382-4657</td>\n",
       "      <td>no</td>\n",
       "      <td>yes</td>\n",
       "      <td>25</td>\n",
       "      <td>265.1</td>\n",
       "      <td>110</td>\n",
       "      <td>45.07</td>\n",
       "      <td>...</td>\n",
       "      <td>99</td>\n",
       "      <td>16.78</td>\n",
       "      <td>244.7</td>\n",
       "      <td>91</td>\n",
       "      <td>11.01</td>\n",
       "      <td>10.0</td>\n",
       "      <td>3</td>\n",
       "      <td>2.70</td>\n",
       "      <td>1</td>\n",
       "      <td>False</td>\n",
       "    </tr>\n",
       "    <tr>\n",
       "      <th>1</th>\n",
       "      <td>OH</td>\n",
       "      <td>107</td>\n",
       "      <td>415</td>\n",
       "      <td>371-7191</td>\n",
       "      <td>no</td>\n",
       "      <td>yes</td>\n",
       "      <td>26</td>\n",
       "      <td>161.6</td>\n",
       "      <td>123</td>\n",
       "      <td>27.47</td>\n",
       "      <td>...</td>\n",
       "      <td>103</td>\n",
       "      <td>16.62</td>\n",
       "      <td>254.4</td>\n",
       "      <td>103</td>\n",
       "      <td>11.45</td>\n",
       "      <td>13.7</td>\n",
       "      <td>3</td>\n",
       "      <td>3.70</td>\n",
       "      <td>1</td>\n",
       "      <td>False</td>\n",
       "    </tr>\n",
       "    <tr>\n",
       "      <th>2</th>\n",
       "      <td>NJ</td>\n",
       "      <td>137</td>\n",
       "      <td>415</td>\n",
       "      <td>358-1921</td>\n",
       "      <td>no</td>\n",
       "      <td>no</td>\n",
       "      <td>0</td>\n",
       "      <td>243.4</td>\n",
       "      <td>114</td>\n",
       "      <td>41.38</td>\n",
       "      <td>...</td>\n",
       "      <td>110</td>\n",
       "      <td>10.30</td>\n",
       "      <td>162.6</td>\n",
       "      <td>104</td>\n",
       "      <td>7.32</td>\n",
       "      <td>12.2</td>\n",
       "      <td>5</td>\n",
       "      <td>3.29</td>\n",
       "      <td>0</td>\n",
       "      <td>False</td>\n",
       "    </tr>\n",
       "    <tr>\n",
       "      <th>3</th>\n",
       "      <td>OH</td>\n",
       "      <td>84</td>\n",
       "      <td>408</td>\n",
       "      <td>375-9999</td>\n",
       "      <td>yes</td>\n",
       "      <td>no</td>\n",
       "      <td>0</td>\n",
       "      <td>299.4</td>\n",
       "      <td>71</td>\n",
       "      <td>50.90</td>\n",
       "      <td>...</td>\n",
       "      <td>88</td>\n",
       "      <td>5.26</td>\n",
       "      <td>196.9</td>\n",
       "      <td>89</td>\n",
       "      <td>8.86</td>\n",
       "      <td>6.6</td>\n",
       "      <td>7</td>\n",
       "      <td>1.78</td>\n",
       "      <td>2</td>\n",
       "      <td>False</td>\n",
       "    </tr>\n",
       "    <tr>\n",
       "      <th>4</th>\n",
       "      <td>OK</td>\n",
       "      <td>75</td>\n",
       "      <td>415</td>\n",
       "      <td>330-6626</td>\n",
       "      <td>yes</td>\n",
       "      <td>no</td>\n",
       "      <td>0</td>\n",
       "      <td>166.7</td>\n",
       "      <td>113</td>\n",
       "      <td>28.34</td>\n",
       "      <td>...</td>\n",
       "      <td>122</td>\n",
       "      <td>12.61</td>\n",
       "      <td>186.9</td>\n",
       "      <td>121</td>\n",
       "      <td>8.41</td>\n",
       "      <td>10.1</td>\n",
       "      <td>3</td>\n",
       "      <td>2.73</td>\n",
       "      <td>3</td>\n",
       "      <td>False</td>\n",
       "    </tr>\n",
       "  </tbody>\n",
       "</table>\n",
       "<p>5 rows × 21 columns</p>\n",
       "</div>"
      ],
      "text/plain": [
       "  state  account length  area code phone number international plan  \\\n",
       "0    KS             128        415     382-4657                 no   \n",
       "1    OH             107        415     371-7191                 no   \n",
       "2    NJ             137        415     358-1921                 no   \n",
       "3    OH              84        408     375-9999                yes   \n",
       "4    OK              75        415     330-6626                yes   \n",
       "\n",
       "  voice mail plan  number vmail messages  total day minutes  total day calls  \\\n",
       "0             yes                     25              265.1              110   \n",
       "1             yes                     26              161.6              123   \n",
       "2              no                      0              243.4              114   \n",
       "3              no                      0              299.4               71   \n",
       "4              no                      0              166.7              113   \n",
       "\n",
       "   total day charge  ...  total eve calls  total eve charge  \\\n",
       "0             45.07  ...               99             16.78   \n",
       "1             27.47  ...              103             16.62   \n",
       "2             41.38  ...              110             10.30   \n",
       "3             50.90  ...               88              5.26   \n",
       "4             28.34  ...              122             12.61   \n",
       "\n",
       "   total night minutes  total night calls  total night charge  \\\n",
       "0                244.7                 91               11.01   \n",
       "1                254.4                103               11.45   \n",
       "2                162.6                104                7.32   \n",
       "3                196.9                 89                8.86   \n",
       "4                186.9                121                8.41   \n",
       "\n",
       "   total intl minutes  total intl calls  total intl charge  \\\n",
       "0                10.0                 3               2.70   \n",
       "1                13.7                 3               3.70   \n",
       "2                12.2                 5               3.29   \n",
       "3                 6.6                 7               1.78   \n",
       "4                10.1                 3               2.73   \n",
       "\n",
       "   customer service calls  churn  \n",
       "0                       1  False  \n",
       "1                       1  False  \n",
       "2                       0  False  \n",
       "3                       2  False  \n",
       "4                       3  False  \n",
       "\n",
       "[5 rows x 21 columns]"
      ]
     },
     "execution_count": 3,
     "metadata": {},
     "output_type": "execute_result"
    }
   ],
   "source": [
    "df.head()"
   ]
  },
  {
   "cell_type": "code",
   "execution_count": 4,
   "metadata": {},
   "outputs": [],
   "source": [
    "df.drop(columns = ['phone number'], axis = 1, inplace = True)"
   ]
  },
  {
   "cell_type": "markdown",
   "metadata": {},
   "source": [
    "---\n",
    "## Dataset Metadata\n",
    "\n",
    "- state: The state of the customer.\n",
    "- account length: The length of the account in days.\n",
    "- area code: The area code of the customer's phone number.\n",
    "- phone number: The phone number of the customer.\n",
    "- international plan: Whether the customer has an international plan or not.\n",
    "- voice mail plan: Whether the customer has a voicemail plan or not.\n",
    "- number vmail messages: The number of voicemail messages the customer has.\n",
    "- total day minutes: Total minutes of day calls.\n",
    "- total day calls: Total number of day calls.\n",
    "- total day charge: Total charge for the day calls.\n",
    "- total eve minutes: Total minutes of evening calls.\n",
    "- total eve calls: Total number of evening calls.\n",
    "- total eve charge: Total charge for the evening calls.\n",
    "- total night minutes: Total minutes of night calls.\n",
    "- total night calls: Total number of night calls.\n",
    "- total night charge: Total charge for the night calls.\n",
    "- total intl minutes: Total minutes of international calls.\n",
    "- total intl calls: Total number of international calls.\n",
    "- total intl charge: Total charge for the international calls.\n",
    "- customer service calls: Number of times the customer called customer service.\n",
    "- churn: Whether the customer churned or not (True/False).\n",
    "    - churn (True): customer has canceled their business with the company\n",
    "---"
   ]
  },
  {
   "cell_type": "markdown",
   "metadata": {},
   "source": [
    "Let's take a quick glance at how many customers are churning "
   ]
  },
  {
   "cell_type": "code",
   "execution_count": 5,
   "metadata": {},
   "outputs": [
    {
     "data": {
      "image/png": "[encoded data removed]",
      "text/plain": [
       "<Figure size 648x504 with 1 Axes>"
      ]
     },
     "metadata": {
      "needs_background": "light"
     },
     "output_type": "display_data"
    }
   ],
   "source": [
    "fig, ax = plt.subplots(figsize = (9,7))\n",
    "churn_bar = df['churn'].value_counts(normalize=True) * 100\n",
    "churn_bar.plot(kind='bar')\n",
    "ax.set_ylabel('percent %')\n",
    "ax.set_title('percent of churn vs. non churn')\n",
    "plt.show();"
   ]
  },
  {
   "cell_type": "code",
   "execution_count": 6,
   "metadata": {},
   "outputs": [
    {
     "data": {
      "text/plain": [
       "85.51"
      ]
     },
     "execution_count": 6,
     "metadata": {},
     "output_type": "execute_result"
    }
   ],
   "source": [
    "round(len(df[df['churn'] == False]) / len(df) * 100, 2)"
   ]
  },
  {
   "cell_type": "markdown",
   "metadata": {},
   "source": [
    "Above we can see that approximately 85.5 % of customers dont churn, meaning only about 14.48 % do. While this is a decently low rate, we can attempt to reduce this as little as possible to maximize revenue and customer retention."
   ]
  },
  {
   "cell_type": "markdown",
   "metadata": {},
   "source": [
    "Let's look into the data we have and determine which ones are categorical and which ones are continuous.\n",
    "Categorical data is any data pretaining to a category, e.g. true/false or red/blue. Categorical is always one thing or another.\n",
    "Whereas continuous data is data that can be infinate in scope e.g. 1.5, 16.3333333 and so on. "
   ]
  },
  {
   "cell_type": "code",
   "execution_count": 7,
   "metadata": {},
   "outputs": [
    {
     "name": "stdout",
     "output_type": "stream",
     "text": [
      "<class 'pandas.core.frame.DataFrame'>\n",
      "RangeIndex: 3333 entries, 0 to 3332\n",
      "Data columns (total 20 columns):\n",
      " #   Column                  Non-Null Count  Dtype  \n",
      "---  ------                  --------------  -----  \n",
      " 0   state                   3333 non-null   object \n",
      " 1   account length          3333 non-null   int64  \n",
      " 2   area code               3333 non-null   int64  \n",
      " 3   international plan      3333 non-null   object \n",
      " 4   voice mail plan         3333 non-null   object \n",
      " 5   number vmail messages   3333 non-null   int64  \n",
      " 6   total day minutes       3333 non-null   float64\n",
      " 7   total day calls         3333 non-null   int64  \n",
      " 8   total day charge        3333 non-null   float64\n",
      " 9   total eve minutes       3333 non-null   float64\n",
      " 10  total eve calls         3333 non-null   int64  \n",
      " 11  total eve charge        3333 non-null   float64\n",
      " 12  total night minutes     3333 non-null   float64\n",
      " 13  total night calls       3333 non-null   int64  \n",
      " 14  total night charge      3333 non-null   float64\n",
      " 15  total intl minutes      3333 non-null   float64\n",
      " 16  total intl calls        3333 non-null   int64  \n",
      " 17  total intl charge       3333 non-null   float64\n",
      " 18  customer service calls  3333 non-null   int64  \n",
      " 19  churn                   3333 non-null   bool   \n",
      "dtypes: bool(1), float64(8), int64(8), object(3)\n",
      "memory usage: 498.1+ KB\n"
     ]
    }
   ],
   "source": [
    "df.info()"
   ]
  },
  {
   "cell_type": "markdown",
   "metadata": {},
   "source": [
    "- categorical data:\n",
    "    - state\n",
    "    - area code\n",
    "    - international plan\n",
    "    - voicemail plan\n",
    "- continuous / numeric data:\n",
    "    - everything else"
   ]
  },
  {
   "cell_type": "markdown",
   "metadata": {},
   "source": [
    "## Metrics"
   ]
  },
  {
   "cell_type": "markdown",
   "metadata": {},
   "source": [
    "## Overview"
   ]
  },
  {
   "cell_type": "markdown",
   "metadata": {},
   "source": [
    "## Data Cleaning / Data Formating"
   ]
  },
  {
   "cell_type": "code",
   "execution_count": 8,
   "metadata": {
    "scrolled": false
   },
   "outputs": [
    {
     "data": {
      "text/html": [
       "<div>\n",
       "<style scoped>\n",
       "    .dataframe tbody tr th:only-of-type {\n",
       "        vertical-align: middle;\n",
       "    }\n",
       "\n",
       "    .dataframe tbody tr th {\n",
       "        vertical-align: top;\n",
       "    }\n",
       "\n",
       "    .dataframe thead th {\n",
       "        text-align: right;\n",
       "    }\n",
       "</style>\n",
       "<table border=\"1\" class=\"dataframe\">\n",
       "  <thead>\n",
       "    <tr style=\"text-align: right;\">\n",
       "      <th></th>\n",
       "      <th>state</th>\n",
       "      <th>account length</th>\n",
       "      <th>area code</th>\n",
       "      <th>international plan</th>\n",
       "      <th>voice mail plan</th>\n",
       "      <th>number vmail messages</th>\n",
       "      <th>total day minutes</th>\n",
       "      <th>total day calls</th>\n",
       "      <th>total day charge</th>\n",
       "      <th>total eve minutes</th>\n",
       "      <th>total eve calls</th>\n",
       "      <th>total eve charge</th>\n",
       "      <th>total night minutes</th>\n",
       "      <th>total night calls</th>\n",
       "      <th>total night charge</th>\n",
       "      <th>total intl minutes</th>\n",
       "      <th>total intl calls</th>\n",
       "      <th>total intl charge</th>\n",
       "      <th>customer service calls</th>\n",
       "      <th>churn</th>\n",
       "    </tr>\n",
       "  </thead>\n",
       "  <tbody>\n",
       "    <tr>\n",
       "      <th>0</th>\n",
       "      <td>KS</td>\n",
       "      <td>128</td>\n",
       "      <td>415</td>\n",
       "      <td>0</td>\n",
       "      <td>1</td>\n",
       "      <td>25</td>\n",
       "      <td>265.1</td>\n",
       "      <td>110</td>\n",
       "      <td>45.07</td>\n",
       "      <td>197.4</td>\n",
       "      <td>99</td>\n",
       "      <td>16.78</td>\n",
       "      <td>244.7</td>\n",
       "      <td>91</td>\n",
       "      <td>11.01</td>\n",
       "      <td>10.0</td>\n",
       "      <td>3</td>\n",
       "      <td>2.70</td>\n",
       "      <td>1</td>\n",
       "      <td>0</td>\n",
       "    </tr>\n",
       "    <tr>\n",
       "      <th>1</th>\n",
       "      <td>OH</td>\n",
       "      <td>107</td>\n",
       "      <td>415</td>\n",
       "      <td>0</td>\n",
       "      <td>1</td>\n",
       "      <td>26</td>\n",
       "      <td>161.6</td>\n",
       "      <td>123</td>\n",
       "      <td>27.47</td>\n",
       "      <td>195.5</td>\n",
       "      <td>103</td>\n",
       "      <td>16.62</td>\n",
       "      <td>254.4</td>\n",
       "      <td>103</td>\n",
       "      <td>11.45</td>\n",
       "      <td>13.7</td>\n",
       "      <td>3</td>\n",
       "      <td>3.70</td>\n",
       "      <td>1</td>\n",
       "      <td>0</td>\n",
       "    </tr>\n",
       "    <tr>\n",
       "      <th>2</th>\n",
       "      <td>NJ</td>\n",
       "      <td>137</td>\n",
       "      <td>415</td>\n",
       "      <td>0</td>\n",
       "      <td>0</td>\n",
       "      <td>0</td>\n",
       "      <td>243.4</td>\n",
       "      <td>114</td>\n",
       "      <td>41.38</td>\n",
       "      <td>121.2</td>\n",
       "      <td>110</td>\n",
       "      <td>10.30</td>\n",
       "      <td>162.6</td>\n",
       "      <td>104</td>\n",
       "      <td>7.32</td>\n",
       "      <td>12.2</td>\n",
       "      <td>5</td>\n",
       "      <td>3.29</td>\n",
       "      <td>0</td>\n",
       "      <td>0</td>\n",
       "    </tr>\n",
       "    <tr>\n",
       "      <th>3</th>\n",
       "      <td>OH</td>\n",
       "      <td>84</td>\n",
       "      <td>408</td>\n",
       "      <td>1</td>\n",
       "      <td>0</td>\n",
       "      <td>0</td>\n",
       "      <td>299.4</td>\n",
       "      <td>71</td>\n",
       "      <td>50.90</td>\n",
       "      <td>61.9</td>\n",
       "      <td>88</td>\n",
       "      <td>5.26</td>\n",
       "      <td>196.9</td>\n",
       "      <td>89</td>\n",
       "      <td>8.86</td>\n",
       "      <td>6.6</td>\n",
       "      <td>7</td>\n",
       "      <td>1.78</td>\n",
       "      <td>2</td>\n",
       "      <td>0</td>\n",
       "    </tr>\n",
       "    <tr>\n",
       "      <th>4</th>\n",
       "      <td>OK</td>\n",
       "      <td>75</td>\n",
       "      <td>415</td>\n",
       "      <td>1</td>\n",
       "      <td>0</td>\n",
       "      <td>0</td>\n",
       "      <td>166.7</td>\n",
       "      <td>113</td>\n",
       "      <td>28.34</td>\n",
       "      <td>148.3</td>\n",
       "      <td>122</td>\n",
       "      <td>12.61</td>\n",
       "      <td>186.9</td>\n",
       "      <td>121</td>\n",
       "      <td>8.41</td>\n",
       "      <td>10.1</td>\n",
       "      <td>3</td>\n",
       "      <td>2.73</td>\n",
       "      <td>3</td>\n",
       "      <td>0</td>\n",
       "    </tr>\n",
       "  </tbody>\n",
       "</table>\n",
       "</div>"
      ],
      "text/plain": [
       "  state  account length  area code  international plan  voice mail plan  \\\n",
       "0    KS             128        415                   0                1   \n",
       "1    OH             107        415                   0                1   \n",
       "2    NJ             137        415                   0                0   \n",
       "3    OH              84        408                   1                0   \n",
       "4    OK              75        415                   1                0   \n",
       "\n",
       "   number vmail messages  total day minutes  total day calls  \\\n",
       "0                     25              265.1              110   \n",
       "1                     26              161.6              123   \n",
       "2                      0              243.4              114   \n",
       "3                      0              299.4               71   \n",
       "4                      0              166.7              113   \n",
       "\n",
       "   total day charge  total eve minutes  total eve calls  total eve charge  \\\n",
       "0             45.07              197.4               99             16.78   \n",
       "1             27.47              195.5              103             16.62   \n",
       "2             41.38              121.2              110             10.30   \n",
       "3             50.90               61.9               88              5.26   \n",
       "4             28.34              148.3              122             12.61   \n",
       "\n",
       "   total night minutes  total night calls  total night charge  \\\n",
       "0                244.7                 91               11.01   \n",
       "1                254.4                103               11.45   \n",
       "2                162.6                104                7.32   \n",
       "3                196.9                 89                8.86   \n",
       "4                186.9                121                8.41   \n",
       "\n",
       "   total intl minutes  total intl calls  total intl charge  \\\n",
       "0                10.0                 3               2.70   \n",
       "1                13.7                 3               3.70   \n",
       "2                12.2                 5               3.29   \n",
       "3                 6.6                 7               1.78   \n",
       "4                10.1                 3               2.73   \n",
       "\n",
       "   customer service calls  churn  \n",
       "0                       1      0  \n",
       "1                       1      0  \n",
       "2                       0      0  \n",
       "3                       2      0  \n",
       "4                       3      0  "
      ]
     },
     "execution_count": 8,
     "metadata": {},
     "output_type": "execute_result"
    }
   ],
   "source": [
    "df['international plan'] = df['international plan'].replace({'yes' : 1, 'no' : 0})\n",
    "df['voice mail plan'] = df['voice mail plan'].replace({'yes' : 1, 'no' : 0})\n",
    "df['churn'] = df['churn'].replace({True : 1, False : 0})\n",
    "df.head()"
   ]
  },
  {
   "cell_type": "markdown",
   "metadata": {},
   "source": [
    "## Data Manipulation\n",
    "### Define"
   ]
  },
  {
   "cell_type": "code",
   "execution_count": 9,
   "metadata": {},
   "outputs": [],
   "source": [
    "def area_percent(df, area_code):\n",
    "    df = df\n",
    "    area = df[df['area code'] == area_code]\n",
    "    count = len(area)\n",
    "    area_churn = area[area['churn'] == True]\n",
    "    c_count = len(area_churn)\n",
    "    percent = round((c_count / count) * 100, 2)\n",
    "    no_churn = len(area) - c_count\n",
    "    \n",
    "    if area_code == 415:\n",
    "        a_c = 'San Fransisco'\n",
    "    elif area_code == 510:\n",
    "        a_c = 'Oakland'\n",
    "    else:\n",
    "        a_c = 'San Jose'\n",
    "    \n",
    "    return 'out of {} cutomers in the {} area code ({}), {} ({}%) have churned, {} have not'.format(count, area_code, \n",
    "                                                                                                    a_c, c_count, \n",
    "                                                                                                    percent, no_churn)"
   ]
  },
  {
   "cell_type": "code",
   "execution_count": 10,
   "metadata": {},
   "outputs": [],
   "source": [
    "def inter_percent(df, bool_):\n",
    "    df = df\n",
    "    inter_plan = df[df['international plan'] == bool_]\n",
    "    inter_count = len(inter_plan)\n",
    "    inter_churn = inter_plan[inter_plan['churn'] == 1]\n",
    "    churn_count = len(inter_churn)\n",
    "    percent = round((churn_count / inter_count) * 100, 2)\n",
    "    \n",
    "    if bool_ == 1:\n",
    "        churn_bool = 'do have an international plan'\n",
    "    else:\n",
    "        churn_bool = 'do not have an international plan'\n",
    "   \n",
    "    return 'out of {} that {}, {} ({}%) churned'.format(inter_count, churn_bool, \n",
    "                                                        churn_count, percent) "
   ]
  },
  {
   "cell_type": "code",
   "execution_count": 11,
   "metadata": {},
   "outputs": [],
   "source": [
    "def voice_percent(df, bool_):\n",
    "    df = df\n",
    "    voice_plan = df[df['voice mail plan'] == bool_]\n",
    "    voice_count = len(voice_plan)\n",
    "    voice_churn = voice_plan[voice_plan['churn'] == 1]\n",
    "    churn_count = len(voice_churn)\n",
    "    percent = round((churn_count / voice_count) * 100, 2)\n",
    "    \n",
    "    if bool_ == 1:\n",
    "        churn_bool = 'do have a voice mail plan'\n",
    "    else:\n",
    "        churn_bool = 'do not have a voice mail plan'\n",
    "   \n",
    "    return 'out of {} that {}, {} ({}%) churned'.format(voice_count, churn_bool, \n",
    "                                                        churn_count, percent) "
   ]
  },
  {
   "cell_type": "code",
   "execution_count": 12,
   "metadata": {},
   "outputs": [],
   "source": [
    "def get_avgs(col):\n",
    "    data = df[col]\n",
    "    avg = data.mean()\n",
    "    max_ = data.max()\n",
    "    min_ = data.min()\n",
    "    \n",
    "    return '{} is the average amount of {}, with {} being the minimum and {} being the maximum'.format(round(avg, 2), col, \n",
    "                                                                                                       min_, max_)"
   ]
  },
  {
   "cell_type": "markdown",
   "metadata": {},
   "source": [
    "## Exploratory Data Analysis"
   ]
  },
  {
   "cell_type": "markdown",
   "metadata": {},
   "source": [
    "## State Categorical"
   ]
  },
  {
   "cell_type": "markdown",
   "metadata": {},
   "source": [
    "Let's take a look into the state categorical data so see how many people churned related to this data."
   ]
  },
  {
   "cell_type": "code",
   "execution_count": 13,
   "metadata": {},
   "outputs": [
    {
     "data": {
      "image/png": "[encoded data removed]",
      "text/plain": [
       "<Figure size 1440x720 with 1 Axes>"
      ]
     },
     "metadata": {
      "needs_background": "light"
     },
     "output_type": "display_data"
    }
   ],
   "source": [
    "fig, ax = plt.subplots(figsize = (20,10))\n",
    "sns.countplot(data = df, x = 'state', hue = 'churn')\n",
    "ax.set_title('churn per state')\n",
    "plt.show();"
   ]
  },
  {
   "cell_type": "markdown",
   "metadata": {},
   "source": [
    "Here we see all the states with their corresponding churn counts. This graph may be a little to much to grasp all at once, so lets look into the top 10 states with the most churn and the top 10 with the least."
   ]
  },
  {
   "cell_type": "code",
   "execution_count": 14,
   "metadata": {
    "scrolled": true
   },
   "outputs": [
    {
     "data": {
      "text/html": [
       "<div>\n",
       "<style scoped>\n",
       "    .dataframe tbody tr th:only-of-type {\n",
       "        vertical-align: middle;\n",
       "    }\n",
       "\n",
       "    .dataframe tbody tr th {\n",
       "        vertical-align: top;\n",
       "    }\n",
       "\n",
       "    .dataframe thead th {\n",
       "        text-align: right;\n",
       "    }\n",
       "</style>\n",
       "<table border=\"1\" class=\"dataframe\">\n",
       "  <thead>\n",
       "    <tr style=\"text-align: right;\">\n",
       "      <th></th>\n",
       "      <th>account length</th>\n",
       "      <th>area code</th>\n",
       "      <th>number vmail messages</th>\n",
       "      <th>total day minutes</th>\n",
       "      <th>total day calls</th>\n",
       "      <th>total day charge</th>\n",
       "      <th>total eve minutes</th>\n",
       "      <th>total eve calls</th>\n",
       "      <th>total eve charge</th>\n",
       "      <th>total night minutes</th>\n",
       "      <th>total night calls</th>\n",
       "      <th>total night charge</th>\n",
       "      <th>total intl minutes</th>\n",
       "      <th>total intl calls</th>\n",
       "      <th>total intl charge</th>\n",
       "      <th>customer service calls</th>\n",
       "      <th>churn</th>\n",
       "    </tr>\n",
       "    <tr>\n",
       "      <th>state</th>\n",
       "      <th></th>\n",
       "      <th></th>\n",
       "      <th></th>\n",
       "      <th></th>\n",
       "      <th></th>\n",
       "      <th></th>\n",
       "      <th></th>\n",
       "      <th></th>\n",
       "      <th></th>\n",
       "      <th></th>\n",
       "      <th></th>\n",
       "      <th></th>\n",
       "      <th></th>\n",
       "      <th></th>\n",
       "      <th></th>\n",
       "      <th></th>\n",
       "      <th></th>\n",
       "    </tr>\n",
       "  </thead>\n",
       "  <tbody>\n",
       "    <tr>\n",
       "      <th>NJ</th>\n",
       "      <td>1708</td>\n",
       "      <td>8093</td>\n",
       "      <td>159</td>\n",
       "      <td>4166.7</td>\n",
       "      <td>1834</td>\n",
       "      <td>708.33</td>\n",
       "      <td>3799.8</td>\n",
       "      <td>1881</td>\n",
       "      <td>323.00</td>\n",
       "      <td>3847.4</td>\n",
       "      <td>1795</td>\n",
       "      <td>173.14</td>\n",
       "      <td>194.3</td>\n",
       "      <td>78</td>\n",
       "      <td>52.49</td>\n",
       "      <td>39</td>\n",
       "      <td>18</td>\n",
       "    </tr>\n",
       "    <tr>\n",
       "      <th>TX</th>\n",
       "      <td>1881</td>\n",
       "      <td>8019</td>\n",
       "      <td>57</td>\n",
       "      <td>3895.9</td>\n",
       "      <td>1771</td>\n",
       "      <td>662.31</td>\n",
       "      <td>3859.3</td>\n",
       "      <td>1763</td>\n",
       "      <td>328.06</td>\n",
       "      <td>3879.5</td>\n",
       "      <td>1790</td>\n",
       "      <td>174.58</td>\n",
       "      <td>198.2</td>\n",
       "      <td>85</td>\n",
       "      <td>53.53</td>\n",
       "      <td>30</td>\n",
       "      <td>18</td>\n",
       "    </tr>\n",
       "    <tr>\n",
       "      <th>MD</th>\n",
       "      <td>1911</td>\n",
       "      <td>7386</td>\n",
       "      <td>83</td>\n",
       "      <td>3913.4</td>\n",
       "      <td>1664</td>\n",
       "      <td>665.30</td>\n",
       "      <td>3656.2</td>\n",
       "      <td>1716</td>\n",
       "      <td>310.78</td>\n",
       "      <td>3333.4</td>\n",
       "      <td>1484</td>\n",
       "      <td>149.99</td>\n",
       "      <td>193.8</td>\n",
       "      <td>61</td>\n",
       "      <td>52.32</td>\n",
       "      <td>38</td>\n",
       "      <td>17</td>\n",
       "    </tr>\n",
       "    <tr>\n",
       "      <th>MI</th>\n",
       "      <td>1908</td>\n",
       "      <td>6686</td>\n",
       "      <td>54</td>\n",
       "      <td>3162.6</td>\n",
       "      <td>1696</td>\n",
       "      <td>537.66</td>\n",
       "      <td>3332.8</td>\n",
       "      <td>1649</td>\n",
       "      <td>283.28</td>\n",
       "      <td>3085.9</td>\n",
       "      <td>1639</td>\n",
       "      <td>138.89</td>\n",
       "      <td>188.0</td>\n",
       "      <td>72</td>\n",
       "      <td>50.76</td>\n",
       "      <td>39</td>\n",
       "      <td>16</td>\n",
       "    </tr>\n",
       "    <tr>\n",
       "      <th>MN</th>\n",
       "      <td>1587</td>\n",
       "      <td>6883</td>\n",
       "      <td>82</td>\n",
       "      <td>3124.1</td>\n",
       "      <td>1501</td>\n",
       "      <td>531.12</td>\n",
       "      <td>3210.1</td>\n",
       "      <td>1564</td>\n",
       "      <td>272.87</td>\n",
       "      <td>3002.5</td>\n",
       "      <td>1421</td>\n",
       "      <td>135.12</td>\n",
       "      <td>169.6</td>\n",
       "      <td>49</td>\n",
       "      <td>45.79</td>\n",
       "      <td>41</td>\n",
       "      <td>15</td>\n",
       "    </tr>\n",
       "    <tr>\n",
       "      <th>NY</th>\n",
       "      <td>1833</td>\n",
       "      <td>6292</td>\n",
       "      <td>33</td>\n",
       "      <td>2960.7</td>\n",
       "      <td>1413</td>\n",
       "      <td>503.31</td>\n",
       "      <td>2858.5</td>\n",
       "      <td>1448</td>\n",
       "      <td>242.97</td>\n",
       "      <td>2874.1</td>\n",
       "      <td>1566</td>\n",
       "      <td>129.34</td>\n",
       "      <td>171.9</td>\n",
       "      <td>68</td>\n",
       "      <td>46.42</td>\n",
       "      <td>40</td>\n",
       "      <td>15</td>\n",
       "    </tr>\n",
       "    <tr>\n",
       "      <th>MT</th>\n",
       "      <td>1474</td>\n",
       "      <td>5965</td>\n",
       "      <td>117</td>\n",
       "      <td>2504.7</td>\n",
       "      <td>1241</td>\n",
       "      <td>425.81</td>\n",
       "      <td>2905.7</td>\n",
       "      <td>1387</td>\n",
       "      <td>246.98</td>\n",
       "      <td>2766.0</td>\n",
       "      <td>1479</td>\n",
       "      <td>124.45</td>\n",
       "      <td>152.5</td>\n",
       "      <td>61</td>\n",
       "      <td>41.20</td>\n",
       "      <td>36</td>\n",
       "      <td>14</td>\n",
       "    </tr>\n",
       "    <tr>\n",
       "      <th>NV</th>\n",
       "      <td>1277</td>\n",
       "      <td>6081</td>\n",
       "      <td>90</td>\n",
       "      <td>3016.1</td>\n",
       "      <td>1440</td>\n",
       "      <td>512.75</td>\n",
       "      <td>2998.9</td>\n",
       "      <td>1307</td>\n",
       "      <td>254.90</td>\n",
       "      <td>2799.5</td>\n",
       "      <td>1425</td>\n",
       "      <td>125.97</td>\n",
       "      <td>134.1</td>\n",
       "      <td>47</td>\n",
       "      <td>36.19</td>\n",
       "      <td>30</td>\n",
       "      <td>14</td>\n",
       "    </tr>\n",
       "    <tr>\n",
       "      <th>MS</th>\n",
       "      <td>1249</td>\n",
       "      <td>5965</td>\n",
       "      <td>84</td>\n",
       "      <td>2753.3</td>\n",
       "      <td>1573</td>\n",
       "      <td>468.06</td>\n",
       "      <td>2816.0</td>\n",
       "      <td>1453</td>\n",
       "      <td>239.37</td>\n",
       "      <td>3108.0</td>\n",
       "      <td>1446</td>\n",
       "      <td>139.86</td>\n",
       "      <td>142.9</td>\n",
       "      <td>65</td>\n",
       "      <td>38.60</td>\n",
       "      <td>32</td>\n",
       "      <td>14</td>\n",
       "    </tr>\n",
       "    <tr>\n",
       "      <th>SC</th>\n",
       "      <td>1590</td>\n",
       "      <td>6271</td>\n",
       "      <td>28</td>\n",
       "      <td>2989.9</td>\n",
       "      <td>1551</td>\n",
       "      <td>508.30</td>\n",
       "      <td>3104.9</td>\n",
       "      <td>1435</td>\n",
       "      <td>263.90</td>\n",
       "      <td>2963.2</td>\n",
       "      <td>1391</td>\n",
       "      <td>133.34</td>\n",
       "      <td>153.3</td>\n",
       "      <td>60</td>\n",
       "      <td>41.40</td>\n",
       "      <td>29</td>\n",
       "      <td>14</td>\n",
       "    </tr>\n",
       "  </tbody>\n",
       "</table>\n",
       "</div>"
      ],
      "text/plain": [
       "       account length  area code  number vmail messages  total day minutes  \\\n",
       "state                                                                        \n",
       "NJ               1708       8093                    159             4166.7   \n",
       "TX               1881       8019                     57             3895.9   \n",
       "MD               1911       7386                     83             3913.4   \n",
       "MI               1908       6686                     54             3162.6   \n",
       "MN               1587       6883                     82             3124.1   \n",
       "NY               1833       6292                     33             2960.7   \n",
       "MT               1474       5965                    117             2504.7   \n",
       "NV               1277       6081                     90             3016.1   \n",
       "MS               1249       5965                     84             2753.3   \n",
       "SC               1590       6271                     28             2989.9   \n",
       "\n",
       "       total day calls  total day charge  total eve minutes  total eve calls  \\\n",
       "state                                                                          \n",
       "NJ                1834            708.33             3799.8             1881   \n",
       "TX                1771            662.31             3859.3             1763   \n",
       "MD                1664            665.30             3656.2             1716   \n",
       "MI                1696            537.66             3332.8             1649   \n",
       "MN                1501            531.12             3210.1             1564   \n",
       "NY                1413            503.31             2858.5             1448   \n",
       "MT                1241            425.81             2905.7             1387   \n",
       "NV                1440            512.75             2998.9             1307   \n",
       "MS                1573            468.06             2816.0             1453   \n",
       "SC                1551            508.30             3104.9             1435   \n",
       "\n",
       "       total eve charge  total night minutes  total night calls  \\\n",
       "state                                                             \n",
       "NJ               323.00               3847.4               1795   \n",
       "TX               328.06               3879.5               1790   \n",
       "MD               310.78               3333.4               1484   \n",
       "MI               283.28               3085.9               1639   \n",
       "MN               272.87               3002.5               1421   \n",
       "NY               242.97               2874.1               1566   \n",
       "MT               246.98               2766.0               1479   \n",
       "NV               254.90               2799.5               1425   \n",
       "MS               239.37               3108.0               1446   \n",
       "SC               263.90               2963.2               1391   \n",
       "\n",
       "       total night charge  total intl minutes  total intl calls  \\\n",
       "state                                                             \n",
       "NJ                 173.14               194.3                78   \n",
       "TX                 174.58               198.2                85   \n",
       "MD                 149.99               193.8                61   \n",
       "MI                 138.89               188.0                72   \n",
       "MN                 135.12               169.6                49   \n",
       "NY                 129.34               171.9                68   \n",
       "MT                 124.45               152.5                61   \n",
       "NV                 125.97               134.1                47   \n",
       "MS                 139.86               142.9                65   \n",
       "SC                 133.34               153.3                60   \n",
       "\n",
       "       total intl charge  customer service calls  churn  \n",
       "state                                                    \n",
       "NJ                 52.49                      39     18  \n",
       "TX                 53.53                      30     18  \n",
       "MD                 52.32                      38     17  \n",
       "MI                 50.76                      39     16  \n",
       "MN                 45.79                      41     15  \n",
       "NY                 46.42                      40     15  \n",
       "MT                 41.20                      36     14  \n",
       "NV                 36.19                      30     14  \n",
       "MS                 38.60                      32     14  \n",
       "SC                 41.40                      29     14  "
      ]
     },
     "execution_count": 14,
     "metadata": {},
     "output_type": "execute_result"
    }
   ],
   "source": [
    "df_churn = df[df['churn'] == True].copy()\n",
    "df_churn.drop(columns = ['international plan', 'voice mail plan'], axis = 1, inplace = True)\n",
    "churn_top_10 = df_churn.sort_values(by = 'churn').groupby('state').sum()\n",
    "churn_top_10.sort_values('churn', ascending = False)[:10]"
   ]
  },
  {
   "cell_type": "markdown",
   "metadata": {},
   "source": [
    "Below we see a map with the top 10 states with the most churns. A majority of these states are located in the east / south east, with only 2 states within the general west region."
   ]
  },
  {
   "attachments": {
    "Screenshot%202024-07-10%20174010.png": {
     "image/png": "[encoded data removed]"
    }
   },
   "cell_type": "markdown",
   "metadata": {},
   "source": [
    "<div>\n",
    "<img src = 'attachment:Screenshot%202024-07-10%20174010.png' width = '500'/>\n",
    "</div>"
   ]
  },
  {
   "cell_type": "code",
   "execution_count": 15,
   "metadata": {
    "scrolled": false
   },
   "outputs": [
    {
     "data": {
      "text/html": [
       "<div>\n",
       "<style scoped>\n",
       "    .dataframe tbody tr th:only-of-type {\n",
       "        vertical-align: middle;\n",
       "    }\n",
       "\n",
       "    .dataframe tbody tr th {\n",
       "        vertical-align: top;\n",
       "    }\n",
       "\n",
       "    .dataframe thead th {\n",
       "        text-align: right;\n",
       "    }\n",
       "</style>\n",
       "<table border=\"1\" class=\"dataframe\">\n",
       "  <thead>\n",
       "    <tr style=\"text-align: right;\">\n",
       "      <th></th>\n",
       "      <th>account length</th>\n",
       "      <th>area code</th>\n",
       "      <th>number vmail messages</th>\n",
       "      <th>total day minutes</th>\n",
       "      <th>total day calls</th>\n",
       "      <th>total day charge</th>\n",
       "      <th>total eve minutes</th>\n",
       "      <th>total eve calls</th>\n",
       "      <th>total eve charge</th>\n",
       "      <th>total night minutes</th>\n",
       "      <th>total night calls</th>\n",
       "      <th>total night charge</th>\n",
       "      <th>total intl minutes</th>\n",
       "      <th>total intl calls</th>\n",
       "      <th>total intl charge</th>\n",
       "      <th>customer service calls</th>\n",
       "      <th>churn</th>\n",
       "    </tr>\n",
       "    <tr>\n",
       "      <th>state</th>\n",
       "      <th></th>\n",
       "      <th></th>\n",
       "      <th></th>\n",
       "      <th></th>\n",
       "      <th></th>\n",
       "      <th></th>\n",
       "      <th></th>\n",
       "      <th></th>\n",
       "      <th></th>\n",
       "      <th></th>\n",
       "      <th></th>\n",
       "      <th></th>\n",
       "      <th></th>\n",
       "      <th></th>\n",
       "      <th></th>\n",
       "      <th></th>\n",
       "      <th></th>\n",
       "    </tr>\n",
       "  </thead>\n",
       "  <tbody>\n",
       "    <tr>\n",
       "      <th>AK</th>\n",
       "      <td>414</td>\n",
       "      <td>1245</td>\n",
       "      <td>0</td>\n",
       "      <td>479.7</td>\n",
       "      <td>270</td>\n",
       "      <td>81.55</td>\n",
       "      <td>494.1</td>\n",
       "      <td>299</td>\n",
       "      <td>42.00</td>\n",
       "      <td>487.5</td>\n",
       "      <td>282</td>\n",
       "      <td>21.95</td>\n",
       "      <td>31.1</td>\n",
       "      <td>6</td>\n",
       "      <td>8.39</td>\n",
       "      <td>10</td>\n",
       "      <td>3</td>\n",
       "    </tr>\n",
       "    <tr>\n",
       "      <th>IA</th>\n",
       "      <td>165</td>\n",
       "      <td>1435</td>\n",
       "      <td>0</td>\n",
       "      <td>739.7</td>\n",
       "      <td>395</td>\n",
       "      <td>125.75</td>\n",
       "      <td>507.9</td>\n",
       "      <td>319</td>\n",
       "      <td>43.17</td>\n",
       "      <td>723.5</td>\n",
       "      <td>277</td>\n",
       "      <td>32.56</td>\n",
       "      <td>25.8</td>\n",
       "      <td>12</td>\n",
       "      <td>6.97</td>\n",
       "      <td>9</td>\n",
       "      <td>3</td>\n",
       "    </tr>\n",
       "    <tr>\n",
       "      <th>HI</th>\n",
       "      <td>312</td>\n",
       "      <td>1238</td>\n",
       "      <td>0</td>\n",
       "      <td>708.6</td>\n",
       "      <td>330</td>\n",
       "      <td>120.46</td>\n",
       "      <td>731.0</td>\n",
       "      <td>292</td>\n",
       "      <td>62.13</td>\n",
       "      <td>641.0</td>\n",
       "      <td>314</td>\n",
       "      <td>28.84</td>\n",
       "      <td>31.5</td>\n",
       "      <td>15</td>\n",
       "      <td>8.51</td>\n",
       "      <td>9</td>\n",
       "      <td>3</td>\n",
       "    </tr>\n",
       "    <tr>\n",
       "      <th>AZ</th>\n",
       "      <td>300</td>\n",
       "      <td>1843</td>\n",
       "      <td>0</td>\n",
       "      <td>800.7</td>\n",
       "      <td>436</td>\n",
       "      <td>136.12</td>\n",
       "      <td>829.0</td>\n",
       "      <td>438</td>\n",
       "      <td>70.46</td>\n",
       "      <td>908.1</td>\n",
       "      <td>409</td>\n",
       "      <td>40.87</td>\n",
       "      <td>40.2</td>\n",
       "      <td>18</td>\n",
       "      <td>10.86</td>\n",
       "      <td>9</td>\n",
       "      <td>4</td>\n",
       "    </tr>\n",
       "    <tr>\n",
       "      <th>LA</th>\n",
       "      <td>538</td>\n",
       "      <td>1755</td>\n",
       "      <td>27</td>\n",
       "      <td>650.2</td>\n",
       "      <td>417</td>\n",
       "      <td>110.53</td>\n",
       "      <td>852.2</td>\n",
       "      <td>388</td>\n",
       "      <td>72.44</td>\n",
       "      <td>768.7</td>\n",
       "      <td>385</td>\n",
       "      <td>34.59</td>\n",
       "      <td>41.2</td>\n",
       "      <td>12</td>\n",
       "      <td>11.12</td>\n",
       "      <td>9</td>\n",
       "      <td>4</td>\n",
       "    </tr>\n",
       "    <tr>\n",
       "      <th>NE</th>\n",
       "      <td>518</td>\n",
       "      <td>2068</td>\n",
       "      <td>0</td>\n",
       "      <td>1159.3</td>\n",
       "      <td>494</td>\n",
       "      <td>197.09</td>\n",
       "      <td>1115.7</td>\n",
       "      <td>579</td>\n",
       "      <td>94.83</td>\n",
       "      <td>1170.5</td>\n",
       "      <td>550</td>\n",
       "      <td>52.68</td>\n",
       "      <td>58.4</td>\n",
       "      <td>19</td>\n",
       "      <td>15.77</td>\n",
       "      <td>6</td>\n",
       "      <td>5</td>\n",
       "    </tr>\n",
       "    <tr>\n",
       "      <th>VA</th>\n",
       "      <td>417</td>\n",
       "      <td>2156</td>\n",
       "      <td>42</td>\n",
       "      <td>914.9</td>\n",
       "      <td>578</td>\n",
       "      <td>155.54</td>\n",
       "      <td>1235.2</td>\n",
       "      <td>503</td>\n",
       "      <td>105.00</td>\n",
       "      <td>1214.7</td>\n",
       "      <td>453</td>\n",
       "      <td>54.66</td>\n",
       "      <td>58.9</td>\n",
       "      <td>25</td>\n",
       "      <td>15.91</td>\n",
       "      <td>8</td>\n",
       "      <td>5</td>\n",
       "    </tr>\n",
       "    <tr>\n",
       "      <th>TN</th>\n",
       "      <td>437</td>\n",
       "      <td>2258</td>\n",
       "      <td>65</td>\n",
       "      <td>1044.1</td>\n",
       "      <td>511</td>\n",
       "      <td>177.51</td>\n",
       "      <td>949.4</td>\n",
       "      <td>447</td>\n",
       "      <td>80.70</td>\n",
       "      <td>1044.1</td>\n",
       "      <td>439</td>\n",
       "      <td>46.98</td>\n",
       "      <td>57.0</td>\n",
       "      <td>14</td>\n",
       "      <td>15.39</td>\n",
       "      <td>15</td>\n",
       "      <td>5</td>\n",
       "    </tr>\n",
       "    <tr>\n",
       "      <th>DC</th>\n",
       "      <td>346</td>\n",
       "      <td>2061</td>\n",
       "      <td>0</td>\n",
       "      <td>943.0</td>\n",
       "      <td>539</td>\n",
       "      <td>160.31</td>\n",
       "      <td>911.9</td>\n",
       "      <td>449</td>\n",
       "      <td>77.53</td>\n",
       "      <td>1224.5</td>\n",
       "      <td>464</td>\n",
       "      <td>55.11</td>\n",
       "      <td>53.4</td>\n",
       "      <td>21</td>\n",
       "      <td>14.42</td>\n",
       "      <td>9</td>\n",
       "      <td>5</td>\n",
       "    </tr>\n",
       "    <tr>\n",
       "      <th>IL</th>\n",
       "      <td>443</td>\n",
       "      <td>2163</td>\n",
       "      <td>48</td>\n",
       "      <td>968.3</td>\n",
       "      <td>585</td>\n",
       "      <td>164.62</td>\n",
       "      <td>1073.9</td>\n",
       "      <td>553</td>\n",
       "      <td>91.28</td>\n",
       "      <td>949.8</td>\n",
       "      <td>439</td>\n",
       "      <td>42.74</td>\n",
       "      <td>62.1</td>\n",
       "      <td>22</td>\n",
       "      <td>16.78</td>\n",
       "      <td>6</td>\n",
       "      <td>5</td>\n",
       "    </tr>\n",
       "  </tbody>\n",
       "</table>\n",
       "</div>"
      ],
      "text/plain": [
       "       account length  area code  number vmail messages  total day minutes  \\\n",
       "state                                                                        \n",
       "AK                414       1245                      0              479.7   \n",
       "IA                165       1435                      0              739.7   \n",
       "HI                312       1238                      0              708.6   \n",
       "AZ                300       1843                      0              800.7   \n",
       "LA                538       1755                     27              650.2   \n",
       "NE                518       2068                      0             1159.3   \n",
       "VA                417       2156                     42              914.9   \n",
       "TN                437       2258                     65             1044.1   \n",
       "DC                346       2061                      0              943.0   \n",
       "IL                443       2163                     48              968.3   \n",
       "\n",
       "       total day calls  total day charge  total eve minutes  total eve calls  \\\n",
       "state                                                                          \n",
       "AK                 270             81.55              494.1              299   \n",
       "IA                 395            125.75              507.9              319   \n",
       "HI                 330            120.46              731.0              292   \n",
       "AZ                 436            136.12              829.0              438   \n",
       "LA                 417            110.53              852.2              388   \n",
       "NE                 494            197.09             1115.7              579   \n",
       "VA                 578            155.54             1235.2              503   \n",
       "TN                 511            177.51              949.4              447   \n",
       "DC                 539            160.31              911.9              449   \n",
       "IL                 585            164.62             1073.9              553   \n",
       "\n",
       "       total eve charge  total night minutes  total night calls  \\\n",
       "state                                                             \n",
       "AK                42.00                487.5                282   \n",
       "IA                43.17                723.5                277   \n",
       "HI                62.13                641.0                314   \n",
       "AZ                70.46                908.1                409   \n",
       "LA                72.44                768.7                385   \n",
       "NE                94.83               1170.5                550   \n",
       "VA               105.00               1214.7                453   \n",
       "TN                80.70               1044.1                439   \n",
       "DC                77.53               1224.5                464   \n",
       "IL                91.28                949.8                439   \n",
       "\n",
       "       total night charge  total intl minutes  total intl calls  \\\n",
       "state                                                             \n",
       "AK                  21.95                31.1                 6   \n",
       "IA                  32.56                25.8                12   \n",
       "HI                  28.84                31.5                15   \n",
       "AZ                  40.87                40.2                18   \n",
       "LA                  34.59                41.2                12   \n",
       "NE                  52.68                58.4                19   \n",
       "VA                  54.66                58.9                25   \n",
       "TN                  46.98                57.0                14   \n",
       "DC                  55.11                53.4                21   \n",
       "IL                  42.74                62.1                22   \n",
       "\n",
       "       total intl charge  customer service calls  churn  \n",
       "state                                                    \n",
       "AK                  8.39                      10      3  \n",
       "IA                  6.97                       9      3  \n",
       "HI                  8.51                       9      3  \n",
       "AZ                 10.86                       9      4  \n",
       "LA                 11.12                       9      4  \n",
       "NE                 15.77                       6      5  \n",
       "VA                 15.91                       8      5  \n",
       "TN                 15.39                      15      5  \n",
       "DC                 14.42                       9      5  \n",
       "IL                 16.78                       6      5  "
      ]
     },
     "execution_count": 15,
     "metadata": {},
     "output_type": "execute_result"
    }
   ],
   "source": [
    "df_low_churn = df[df['churn'] == True].copy()\n",
    "churn_top_10_low = df_churn.sort_values(by = 'churn').groupby('state').sum()\n",
    "churn_top_10_low.sort_values('churn', ascending = True)[:10]"
   ]
  },
  {
   "cell_type": "markdown",
   "metadata": {},
   "source": [
    "Now we have a map including the states with the lowest churns (in green) with a mojority of states residing within the central america area."
   ]
  },
  {
   "attachments": {
    "Screenshot%202024-07-10%20174555.png": {
     "image/png": "[encoded data removed]"
    }
   },
   "cell_type": "markdown",
   "metadata": {},
   "source": [
    "<div>\n",
    "<img src = 'attachment:Screenshot%202024-07-10%20174555.png' width = '500'/>\n",
    "</div>"
   ]
  },
  {
   "cell_type": "markdown",
   "metadata": {},
   "source": [
    "---\n",
    "## Area Code Categorical"
   ]
  },
  {
   "cell_type": "markdown",
   "metadata": {},
   "source": [
    "When it comes to area code, we come accross an interesting situation. As shown below, this data sheet has three area codes, with all of them being located within california. This implies this specific company primarily conducts its business in california, while a failry large amount of customers have moved to another state. This could lead to an interesting conclusion, as its possbile that moving to another state could cause a customer to churn, as there could be cheaper / more reliable service options within the new living area. California (residing in grey coloring) has a 'middle of the pack' churn rate above.\n",
    "\n",
    "- 415 - San Fransisco\n",
    "- 510 - Oakland\n",
    "- 408 - San Jose"
   ]
  },
  {
   "cell_type": "code",
   "execution_count": 16,
   "metadata": {},
   "outputs": [
    {
     "data": {
      "text/plain": [
       "area code\n",
       "415    1655\n",
       "510     840\n",
       "408     838\n",
       "Name: count, dtype: int64"
      ]
     },
     "execution_count": 16,
     "metadata": {},
     "output_type": "execute_result"
    }
   ],
   "source": [
    "df['area code'].value_counts()"
   ]
  },
  {
   "cell_type": "markdown",
   "metadata": {},
   "source": [
    "Let's check out churn rate per these three area codes."
   ]
  },
  {
   "cell_type": "code",
   "execution_count": 17,
   "metadata": {},
   "outputs": [
    {
     "data": {
      "image/png": "[encoded data removed]",
      "text/plain": [
       "<Figure size 720x504 with 1 Axes>"
      ]
     },
     "metadata": {
      "needs_background": "light"
     },
     "output_type": "display_data"
    }
   ],
   "source": [
    "fig, ax = plt.subplots(figsize = (10, 7))\n",
    "sns.countplot(data = df, x = 'area code', hue = 'churn')\n",
    "ax.set_title('churn per area code')\n",
    "plt.show();"
   ]
  },
  {
   "cell_type": "markdown",
   "metadata": {},
   "source": [
    "as we can see, 415 (San Fransisco) has the highest total amount of customers, with 1655 in total. An interesting thing to note is that even though 415 has significantly more customers than the other 2, the churn rate is about 15% for all of them."
   ]
  },
  {
   "cell_type": "code",
   "execution_count": 18,
   "metadata": {},
   "outputs": [
    {
     "data": {
      "text/plain": [
       "'out of 1655 cutomers in the 415 area code (San Fransisco), 236 (14.26%) have churned, 1419 have not'"
      ]
     },
     "execution_count": 18,
     "metadata": {},
     "output_type": "execute_result"
    }
   ],
   "source": [
    "area_percent(df, 415)"
   ]
  },
  {
   "cell_type": "code",
   "execution_count": 19,
   "metadata": {},
   "outputs": [
    {
     "data": {
      "text/plain": [
       "'out of 840 cutomers in the 510 area code (Oakland), 125 (14.88%) have churned, 715 have not'"
      ]
     },
     "execution_count": 19,
     "metadata": {},
     "output_type": "execute_result"
    }
   ],
   "source": [
    "area_percent(df, 510)"
   ]
  },
  {
   "cell_type": "code",
   "execution_count": 20,
   "metadata": {},
   "outputs": [
    {
     "data": {
      "text/plain": [
       "'out of 838 cutomers in the 408 area code (San Jose), 122 (14.56%) have churned, 716 have not'"
      ]
     },
     "execution_count": 20,
     "metadata": {},
     "output_type": "execute_result"
    }
   ],
   "source": [
    "area_percent(df,408)"
   ]
  },
  {
   "cell_type": "markdown",
   "metadata": {},
   "source": [
    "---\n",
    "## International Plan Categorical"
   ]
  },
  {
   "cell_type": "code",
   "execution_count": 21,
   "metadata": {},
   "outputs": [
    {
     "data": {
      "text/plain": [
       "international plan\n",
       "0    3010\n",
       "1     323\n",
       "Name: count, dtype: int64"
      ]
     },
     "execution_count": 21,
     "metadata": {},
     "output_type": "execute_result"
    }
   ],
   "source": [
    "df['international plan'].value_counts()"
   ]
  },
  {
   "cell_type": "code",
   "execution_count": 22,
   "metadata": {},
   "outputs": [
    {
     "data": {
      "image/png": "[encoded data removed]",
      "text/plain": [
       "<Figure size 720x504 with 1 Axes>"
      ]
     },
     "metadata": {
      "needs_background": "light"
     },
     "output_type": "display_data"
    }
   ],
   "source": [
    "fig, ax = plt.subplots(figsize = (10, 7))\n",
    "sns.countplot(data = df, x = 'international plan', hue = 'churn')\n",
    "ax.set_title('international plan vs. churn')\n",
    "plt.show();"
   ]
  },
  {
   "cell_type": "code",
   "execution_count": 23,
   "metadata": {},
   "outputs": [
    {
     "data": {
      "text/plain": [
       "'out of 323 that do have an international plan, 137 (42.41%) churned'"
      ]
     },
     "execution_count": 23,
     "metadata": {},
     "output_type": "execute_result"
    }
   ],
   "source": [
    "inter_percent(df, 1)"
   ]
  },
  {
   "cell_type": "code",
   "execution_count": 24,
   "metadata": {},
   "outputs": [
    {
     "data": {
      "text/plain": [
       "'out of 3010 that do not have an international plan, 346 (11.5%) churned'"
      ]
     },
     "execution_count": 24,
     "metadata": {},
     "output_type": "execute_result"
    }
   ],
   "source": [
    "inter_percent(df, 0)"
   ]
  },
  {
   "cell_type": "markdown",
   "metadata": {},
   "source": [
    "Above we can see that a mojority of customers dont have an international plan, and the ones that do, 42% of them end up churning. This may be a sign that international plans are either over priced, not providing adequate service quality or both."
   ]
  },
  {
   "cell_type": "markdown",
   "metadata": {},
   "source": [
    "---\n",
    "## Voicemail Plan Categorical"
   ]
  },
  {
   "cell_type": "code",
   "execution_count": 25,
   "metadata": {},
   "outputs": [
    {
     "data": {
      "text/plain": [
       "voice mail plan\n",
       "0    2411\n",
       "1     922\n",
       "Name: count, dtype: int64"
      ]
     },
     "execution_count": 25,
     "metadata": {},
     "output_type": "execute_result"
    }
   ],
   "source": [
    "df['voice mail plan'].value_counts()"
   ]
  },
  {
   "cell_type": "code",
   "execution_count": 26,
   "metadata": {},
   "outputs": [
    {
     "data": {
      "image/png": "[encoded data removed]",
      "text/plain": [
       "<Figure size 720x504 with 1 Axes>"
      ]
     },
     "metadata": {
      "needs_background": "light"
     },
     "output_type": "display_data"
    }
   ],
   "source": [
    "fig, ax = plt.subplots(figsize = (10, 7))\n",
    "sns.countplot(data = df, x = 'voice mail plan', hue = 'churn')\n",
    "ax.set_title('voice mail plan vs. churn')\n",
    "plt.show();"
   ]
  },
  {
   "cell_type": "code",
   "execution_count": 27,
   "metadata": {},
   "outputs": [
    {
     "data": {
      "text/plain": [
       "'out of 922 that do have a voice mail plan, 80 (8.68%) churned'"
      ]
     },
     "execution_count": 27,
     "metadata": {},
     "output_type": "execute_result"
    }
   ],
   "source": [
    "voice_percent(df, 1)"
   ]
  },
  {
   "cell_type": "code",
   "execution_count": 28,
   "metadata": {},
   "outputs": [
    {
     "data": {
      "text/plain": [
       "'out of 2411 that do not have a voice mail plan, 403 (16.72%) churned'"
      ]
     },
     "execution_count": 28,
     "metadata": {},
     "output_type": "execute_result"
    }
   ],
   "source": [
    "voice_percent(df, 0)"
   ]
  },
  {
   "cell_type": "markdown",
   "metadata": {},
   "source": [
    "## Numeric data"
   ]
  },
  {
   "cell_type": "markdown",
   "metadata": {},
   "source": [
    "Let's create a dataframe with just numeric data to make it easier to look into these entries."
   ]
  },
  {
   "cell_type": "code",
   "execution_count": 29,
   "metadata": {},
   "outputs": [],
   "source": [
    "numeric_data = ['account length', 'number vmail messages', 'total day minutes',\n",
    "       'total day calls', 'total day charge', 'total eve minutes',\n",
    "       'total eve calls', 'total eve charge', 'total night minutes',\n",
    "      'total night calls', 'total night charge', 'total intl minutes',\n",
    "      'total intl calls', 'total intl charge', 'customer service calls']\n",
    "\n",
    "categorical_data = ['state', 'area code', 'international plan', 'voice mail plan']"
   ]
  },
  {
   "cell_type": "code",
   "execution_count": 30,
   "metadata": {},
   "outputs": [],
   "source": [
    "df_numeric = df.drop(categorical_data, axis = 1)"
   ]
  },
  {
   "cell_type": "code",
   "execution_count": 31,
   "metadata": {},
   "outputs": [],
   "source": [
    "df_categoric = df.drop(numeric_data, axis = 1)"
   ]
  },
  {
   "cell_type": "code",
   "execution_count": 32,
   "metadata": {
    "scrolled": true
   },
   "outputs": [
    {
     "data": {
      "image/png": "[encoded data removed]",
      "text/plain": [
       "<Figure size 648x504 with 1 Axes>"
      ]
     },
     "metadata": {
      "needs_background": "light"
     },
     "output_type": "display_data"
    },
    {
     "data": {
      "image/png": "[encoded data removed]",
      "text/plain": [
       "<Figure size 648x504 with 1 Axes>"
      ]
     },
     "metadata": {
      "needs_background": "light"
     },
     "output_type": "display_data"
    },
    {
     "data": {
      "image/png": "[encoded data removed]",
      "text/plain": [
       "<Figure size 648x504 with 1 Axes>"
      ]
     },
     "metadata": {
      "needs_background": "light"
     },
     "output_type": "display_data"
    },
    {
     "data": {
      "image/png": "[encoded data removed]",
      "text/plain": [
       "<Figure size 648x504 with 1 Axes>"
      ]
     },
     "metadata": {
      "needs_background": "light"
     },
     "output_type": "display_data"
    },
    {
     "data": {
      "image/png": "[encoded data removed]",
      "text/plain": [
       "<Figure size 648x504 with 1 Axes>"
      ]
     },
     "metadata": {
      "needs_background": "light"
     },
     "output_type": "display_data"
    },
    {
     "data": {
      "image/png": "[encoded data removed]",
      "text/plain": [
       "<Figure size 648x504 with 1 Axes>"
      ]
     },
     "metadata": {
      "needs_background": "light"
     },
     "output_type": "display_data"
    },
    {
     "data": {
      "image/png": "[encoded data removed]",
      "text/plain": [
       "<Figure size 648x504 with 1 Axes>"
      ]
     },
     "metadata": {
      "needs_background": "light"
     },
     "output_type": "display_data"
    },
    {
     "data": {
      "image/png": "[encoded data removed]",
      "text/plain": [
       "<Figure size 648x504 with 1 Axes>"
      ]
     },
     "metadata": {
      "needs_background": "light"
     },
     "output_type": "display_data"
    },
    {
     "data": {
      "image/png": "[encoded data removed]",
      "text/plain": [
       "<Figure size 648x504 with 1 Axes>"
      ]
     },
     "metadata": {
      "needs_background": "light"
     },
     "output_type": "display_data"
    },
    {
     "data": {
      "image/png": "[encoded data removed]",
      "text/plain": [
       "<Figure size 648x504 with 1 Axes>"
      ]
     },
     "metadata": {
      "needs_background": "light"
     },
     "output_type": "display_data"
    },
    {
     "data": {
      "image/png": "[encoded data removed]",
      "text/plain": [
       "<Figure size 648x504 with 1 Axes>"
      ]
     },
     "metadata": {
      "needs_background": "light"
     },
     "output_type": "display_data"
    },
    {
     "data": {
      "image/png": "[encoded data removed]",
      "text/plain": [
       "<Figure size 648x504 with 1 Axes>"
      ]
     },
     "metadata": {
      "needs_background": "light"
     },
     "output_type": "display_data"
    },
    {
     "data": {
      "image/png": "[encoded data removed]",
      "text/plain": [
       "<Figure size 648x504 with 1 Axes>"
      ]
     },
     "metadata": {
      "needs_background": "light"
     },
     "output_type": "display_data"
    },
    {
     "data": {
      "image/png": "[encoded data removed]",
      "text/plain": [
       "<Figure size 648x504 with 1 Axes>"
      ]
     },
     "metadata": {
      "needs_background": "light"
     },
     "output_type": "display_data"
    },
    {
     "data": {
      "image/png": "[encoded data removed]",
      "text/plain": [
       "<Figure size 648x504 with 1 Axes>"
      ]
     },
     "metadata": {
      "needs_background": "light"
     },
     "output_type": "display_data"
    },
    {
     "data": {
      "image/png": "[encoded data removed]",
      "text/plain": [
       "<Figure size 648x504 with 1 Axes>"
      ]
     },
     "metadata": {
      "needs_background": "light"
     },
     "output_type": "display_data"
    }
   ],
   "source": [
    "for i in df_numeric:\n",
    "    fig, ax = plt.subplots(figsize = (9,7))\n",
    "    sns.histplot(df[i])"
   ]
  },
  {
   "cell_type": "markdown",
   "metadata": {},
   "source": [
    "## Breakdown"
   ]
  },
  {
   "cell_type": "markdown",
   "metadata": {},
   "source": [
    "This here is just a simple breakdown of each graph shown above."
   ]
  },
  {
   "cell_type": "code",
   "execution_count": 33,
   "metadata": {
    "scrolled": true
   },
   "outputs": [
    {
     "name": "stdout",
     "output_type": "stream",
     "text": [
      "101.06 is the average amount of account length, with 1 being the minimum and 243 being the maximum\n",
      "------------------------------------------------------------------------------------------\n",
      "8.1 is the average amount of number vmail messages, with 0 being the minimum and 51 being the maximum\n",
      "------------------------------------------------------------------------------------------\n",
      "179.78 is the average amount of total day minutes, with 0.0 being the minimum and 350.8 being the maximum\n",
      "------------------------------------------------------------------------------------------\n",
      "100.44 is the average amount of total day calls, with 0 being the minimum and 165 being the maximum\n",
      "------------------------------------------------------------------------------------------\n",
      "30.56 is the average amount of total day charge, with 0.0 being the minimum and 59.64 being the maximum\n",
      "------------------------------------------------------------------------------------------\n",
      "200.98 is the average amount of total eve minutes, with 0.0 being the minimum and 363.7 being the maximum\n",
      "------------------------------------------------------------------------------------------\n",
      "100.11 is the average amount of total eve calls, with 0 being the minimum and 170 being the maximum\n",
      "------------------------------------------------------------------------------------------\n",
      "17.08 is the average amount of total eve charge, with 0.0 being the minimum and 30.91 being the maximum\n",
      "------------------------------------------------------------------------------------------\n",
      "200.87 is the average amount of total night minutes, with 23.2 being the minimum and 395.0 being the maximum\n",
      "------------------------------------------------------------------------------------------\n",
      "100.11 is the average amount of total night calls, with 33 being the minimum and 175 being the maximum\n",
      "------------------------------------------------------------------------------------------\n",
      "9.04 is the average amount of total night charge, with 1.04 being the minimum and 17.77 being the maximum\n",
      "------------------------------------------------------------------------------------------\n",
      "10.24 is the average amount of total intl minutes, with 0.0 being the minimum and 20.0 being the maximum\n",
      "------------------------------------------------------------------------------------------\n",
      "4.48 is the average amount of total intl calls, with 0 being the minimum and 20 being the maximum\n",
      "------------------------------------------------------------------------------------------\n",
      "2.76 is the average amount of total intl charge, with 0.0 being the minimum and 5.4 being the maximum\n",
      "------------------------------------------------------------------------------------------\n",
      "1.56 is the average amount of customer service calls, with 0 being the minimum and 9 being the maximum\n"
     ]
    }
   ],
   "source": [
    "print(get_avgs('account length'))\n",
    "print('------------------------------------------------------------------------------------------')\n",
    "print(get_avgs('number vmail messages'))\n",
    "print('------------------------------------------------------------------------------------------')\n",
    "print(get_avgs('total day minutes'))\n",
    "print('------------------------------------------------------------------------------------------')\n",
    "print(get_avgs('total day calls'))\n",
    "print('------------------------------------------------------------------------------------------')\n",
    "print(get_avgs('total day charge'))\n",
    "print('------------------------------------------------------------------------------------------')\n",
    "print(get_avgs('total eve minutes'))\n",
    "print('------------------------------------------------------------------------------------------')\n",
    "print(get_avgs('total eve calls'))\n",
    "print('------------------------------------------------------------------------------------------') \n",
    "print(get_avgs('total eve charge'))\n",
    "print('------------------------------------------------------------------------------------------') \n",
    "print(get_avgs('total night minutes'))\n",
    "print('------------------------------------------------------------------------------------------') \n",
    "print(get_avgs('total night calls'))\n",
    "print('------------------------------------------------------------------------------------------') \n",
    "print(get_avgs('total night charge'))\n",
    "print('------------------------------------------------------------------------------------------')\n",
    "print(get_avgs('total intl minutes'))\n",
    "print('------------------------------------------------------------------------------------------')\n",
    "print(get_avgs('total intl calls'))\n",
    "print('------------------------------------------------------------------------------------------') \n",
    "print(get_avgs('total intl charge'))\n",
    "print('------------------------------------------------------------------------------------------')\n",
    "print(get_avgs('customer service calls'))"
   ]
  },
  {
   "cell_type": "markdown",
   "metadata": {},
   "source": [
    "# Model Building and Analysis"
   ]
  },
  {
   "cell_type": "markdown",
   "metadata": {},
   "source": [
    "## OHE\n",
    "Our first step will be to turn all categorical data into `one-hot encoded` data, which simply means it splits the data into new columns where 1 = True and 0 = False, allowing for classification models to work properly. An example showcased below is for the `state` column. Before it was simply stating what state the customer is in, but now every entry has a specific spot for each state, with only the correct state per customer having a 1 in its place."
   ]
  },
  {
   "cell_type": "code",
   "execution_count": 34,
   "metadata": {},
   "outputs": [],
   "source": [
    "ohe_df = pd.get_dummies(df, columns = categorical_data, drop_first = True, dtype = int)"
   ]
  },
  {
   "cell_type": "code",
   "execution_count": 35,
   "metadata": {
    "scrolled": true
   },
   "outputs": [
    {
     "data": {
      "text/html": [
       "<div>\n",
       "<style scoped>\n",
       "    .dataframe tbody tr th:only-of-type {\n",
       "        vertical-align: middle;\n",
       "    }\n",
       "\n",
       "    .dataframe tbody tr th {\n",
       "        vertical-align: top;\n",
       "    }\n",
       "\n",
       "    .dataframe thead th {\n",
       "        text-align: right;\n",
       "    }\n",
       "</style>\n",
       "<table border=\"1\" class=\"dataframe\">\n",
       "  <thead>\n",
       "    <tr style=\"text-align: right;\">\n",
       "      <th></th>\n",
       "      <th>account length</th>\n",
       "      <th>number vmail messages</th>\n",
       "      <th>total day minutes</th>\n",
       "      <th>total day calls</th>\n",
       "      <th>total day charge</th>\n",
       "      <th>total eve minutes</th>\n",
       "      <th>total eve calls</th>\n",
       "      <th>total eve charge</th>\n",
       "      <th>total night minutes</th>\n",
       "      <th>total night calls</th>\n",
       "      <th>...</th>\n",
       "      <th>state_VA</th>\n",
       "      <th>state_VT</th>\n",
       "      <th>state_WA</th>\n",
       "      <th>state_WI</th>\n",
       "      <th>state_WV</th>\n",
       "      <th>state_WY</th>\n",
       "      <th>area code_415</th>\n",
       "      <th>area code_510</th>\n",
       "      <th>international plan_1</th>\n",
       "      <th>voice mail plan_1</th>\n",
       "    </tr>\n",
       "  </thead>\n",
       "  <tbody>\n",
       "    <tr>\n",
       "      <th>0</th>\n",
       "      <td>128</td>\n",
       "      <td>25</td>\n",
       "      <td>265.1</td>\n",
       "      <td>110</td>\n",
       "      <td>45.07</td>\n",
       "      <td>197.4</td>\n",
       "      <td>99</td>\n",
       "      <td>16.78</td>\n",
       "      <td>244.7</td>\n",
       "      <td>91</td>\n",
       "      <td>...</td>\n",
       "      <td>0</td>\n",
       "      <td>0</td>\n",
       "      <td>0</td>\n",
       "      <td>0</td>\n",
       "      <td>0</td>\n",
       "      <td>0</td>\n",
       "      <td>1</td>\n",
       "      <td>0</td>\n",
       "      <td>0</td>\n",
       "      <td>1</td>\n",
       "    </tr>\n",
       "    <tr>\n",
       "      <th>1</th>\n",
       "      <td>107</td>\n",
       "      <td>26</td>\n",
       "      <td>161.6</td>\n",
       "      <td>123</td>\n",
       "      <td>27.47</td>\n",
       "      <td>195.5</td>\n",
       "      <td>103</td>\n",
       "      <td>16.62</td>\n",
       "      <td>254.4</td>\n",
       "      <td>103</td>\n",
       "      <td>...</td>\n",
       "      <td>0</td>\n",
       "      <td>0</td>\n",
       "      <td>0</td>\n",
       "      <td>0</td>\n",
       "      <td>0</td>\n",
       "      <td>0</td>\n",
       "      <td>1</td>\n",
       "      <td>0</td>\n",
       "      <td>0</td>\n",
       "      <td>1</td>\n",
       "    </tr>\n",
       "    <tr>\n",
       "      <th>2</th>\n",
       "      <td>137</td>\n",
       "      <td>0</td>\n",
       "      <td>243.4</td>\n",
       "      <td>114</td>\n",
       "      <td>41.38</td>\n",
       "      <td>121.2</td>\n",
       "      <td>110</td>\n",
       "      <td>10.30</td>\n",
       "      <td>162.6</td>\n",
       "      <td>104</td>\n",
       "      <td>...</td>\n",
       "      <td>0</td>\n",
       "      <td>0</td>\n",
       "      <td>0</td>\n",
       "      <td>0</td>\n",
       "      <td>0</td>\n",
       "      <td>0</td>\n",
       "      <td>1</td>\n",
       "      <td>0</td>\n",
       "      <td>0</td>\n",
       "      <td>0</td>\n",
       "    </tr>\n",
       "    <tr>\n",
       "      <th>3</th>\n",
       "      <td>84</td>\n",
       "      <td>0</td>\n",
       "      <td>299.4</td>\n",
       "      <td>71</td>\n",
       "      <td>50.90</td>\n",
       "      <td>61.9</td>\n",
       "      <td>88</td>\n",
       "      <td>5.26</td>\n",
       "      <td>196.9</td>\n",
       "      <td>89</td>\n",
       "      <td>...</td>\n",
       "      <td>0</td>\n",
       "      <td>0</td>\n",
       "      <td>0</td>\n",
       "      <td>0</td>\n",
       "      <td>0</td>\n",
       "      <td>0</td>\n",
       "      <td>0</td>\n",
       "      <td>0</td>\n",
       "      <td>1</td>\n",
       "      <td>0</td>\n",
       "    </tr>\n",
       "    <tr>\n",
       "      <th>4</th>\n",
       "      <td>75</td>\n",
       "      <td>0</td>\n",
       "      <td>166.7</td>\n",
       "      <td>113</td>\n",
       "      <td>28.34</td>\n",
       "      <td>148.3</td>\n",
       "      <td>122</td>\n",
       "      <td>12.61</td>\n",
       "      <td>186.9</td>\n",
       "      <td>121</td>\n",
       "      <td>...</td>\n",
       "      <td>0</td>\n",
       "      <td>0</td>\n",
       "      <td>0</td>\n",
       "      <td>0</td>\n",
       "      <td>0</td>\n",
       "      <td>0</td>\n",
       "      <td>1</td>\n",
       "      <td>0</td>\n",
       "      <td>1</td>\n",
       "      <td>0</td>\n",
       "    </tr>\n",
       "  </tbody>\n",
       "</table>\n",
       "<p>5 rows × 70 columns</p>\n",
       "</div>"
      ],
      "text/plain": [
       "   account length  number vmail messages  total day minutes  total day calls  \\\n",
       "0             128                     25              265.1              110   \n",
       "1             107                     26              161.6              123   \n",
       "2             137                      0              243.4              114   \n",
       "3              84                      0              299.4               71   \n",
       "4              75                      0              166.7              113   \n",
       "\n",
       "   total day charge  total eve minutes  total eve calls  total eve charge  \\\n",
       "0             45.07              197.4               99             16.78   \n",
       "1             27.47              195.5              103             16.62   \n",
       "2             41.38              121.2              110             10.30   \n",
       "3             50.90               61.9               88              5.26   \n",
       "4             28.34              148.3              122             12.61   \n",
       "\n",
       "   total night minutes  total night calls  ...  state_VA  state_VT  state_WA  \\\n",
       "0                244.7                 91  ...         0         0         0   \n",
       "1                254.4                103  ...         0         0         0   \n",
       "2                162.6                104  ...         0         0         0   \n",
       "3                196.9                 89  ...         0         0         0   \n",
       "4                186.9                121  ...         0         0         0   \n",
       "\n",
       "   state_WI  state_WV  state_WY  area code_415  area code_510  \\\n",
       "0         0         0         0              1              0   \n",
       "1         0         0         0              1              0   \n",
       "2         0         0         0              1              0   \n",
       "3         0         0         0              0              0   \n",
       "4         0         0         0              1              0   \n",
       "\n",
       "   international plan_1  voice mail plan_1  \n",
       "0                     0                  1  \n",
       "1                     0                  1  \n",
       "2                     0                  0  \n",
       "3                     1                  0  \n",
       "4                     1                  0  \n",
       "\n",
       "[5 rows x 70 columns]"
      ]
     },
     "execution_count": 35,
     "metadata": {},
     "output_type": "execute_result"
    }
   ],
   "source": [
    "ohe_df.head()"
   ]
  },
  {
   "cell_type": "code",
   "execution_count": 36,
   "metadata": {
    "scrolled": true
   },
   "outputs": [
    {
     "data": {
      "text/plain": [
       "Index(['account length', 'number vmail messages', 'total day minutes',\n",
       "       'total day calls', 'total day charge', 'total eve minutes',\n",
       "       'total eve calls', 'total eve charge', 'total night minutes',\n",
       "       'total night calls', 'total night charge', 'total intl minutes',\n",
       "       'total intl calls', 'total intl charge', 'customer service calls',\n",
       "       'churn', 'state_AL', 'state_AR', 'state_AZ', 'state_CA', 'state_CO',\n",
       "       'state_CT', 'state_DC', 'state_DE', 'state_FL', 'state_GA', 'state_HI',\n",
       "       'state_IA', 'state_ID', 'state_IL', 'state_IN', 'state_KS', 'state_KY',\n",
       "       'state_LA', 'state_MA', 'state_MD', 'state_ME', 'state_MI', 'state_MN',\n",
       "       'state_MO', 'state_MS', 'state_MT', 'state_NC', 'state_ND', 'state_NE',\n",
       "       'state_NH', 'state_NJ', 'state_NM', 'state_NV', 'state_NY', 'state_OH',\n",
       "       'state_OK', 'state_OR', 'state_PA', 'state_RI', 'state_SC', 'state_SD',\n",
       "       'state_TN', 'state_TX', 'state_UT', 'state_VA', 'state_VT', 'state_WA',\n",
       "       'state_WI', 'state_WV', 'state_WY', 'area code_415', 'area code_510',\n",
       "       'international plan_1', 'voice mail plan_1'],\n",
       "      dtype='object')"
      ]
     },
     "execution_count": 36,
     "metadata": {},
     "output_type": "execute_result"
    }
   ],
   "source": [
    "ohe_df.columns"
   ]
  },
  {
   "cell_type": "markdown",
   "metadata": {},
   "source": [
    "## Train Test Split "
   ]
  },
  {
   "cell_type": "code",
   "execution_count": 37,
   "metadata": {},
   "outputs": [],
   "source": [
    "y = ohe_df['churn']\n",
    "y = list(y)\n",
    "x = ohe_df.drop('churn', axis = 1)\n",
    "x_train, x_test, y_train, y_test = train_test_split(x, y, random_state = 13)"
   ]
  },
  {
   "cell_type": "markdown",
   "metadata": {},
   "source": [
    "## Scaling"
   ]
  },
  {
   "cell_type": "code",
   "execution_count": 38,
   "metadata": {},
   "outputs": [
    {
     "data": {
      "text/html": [
       "<div>\n",
       "<style scoped>\n",
       "    .dataframe tbody tr th:only-of-type {\n",
       "        vertical-align: middle;\n",
       "    }\n",
       "\n",
       "    .dataframe tbody tr th {\n",
       "        vertical-align: top;\n",
       "    }\n",
       "\n",
       "    .dataframe thead th {\n",
       "        text-align: right;\n",
       "    }\n",
       "</style>\n",
       "<table border=\"1\" class=\"dataframe\">\n",
       "  <thead>\n",
       "    <tr style=\"text-align: right;\">\n",
       "      <th></th>\n",
       "      <th>account length</th>\n",
       "      <th>number vmail messages</th>\n",
       "      <th>total day minutes</th>\n",
       "      <th>total day calls</th>\n",
       "      <th>total day charge</th>\n",
       "      <th>total eve minutes</th>\n",
       "      <th>total eve calls</th>\n",
       "      <th>total eve charge</th>\n",
       "      <th>total night minutes</th>\n",
       "      <th>total night calls</th>\n",
       "      <th>...</th>\n",
       "      <th>state_VA</th>\n",
       "      <th>state_VT</th>\n",
       "      <th>state_WA</th>\n",
       "      <th>state_WI</th>\n",
       "      <th>state_WV</th>\n",
       "      <th>state_WY</th>\n",
       "      <th>area code_415</th>\n",
       "      <th>area code_510</th>\n",
       "      <th>international plan_1</th>\n",
       "      <th>voice mail plan_1</th>\n",
       "    </tr>\n",
       "  </thead>\n",
       "  <tbody>\n",
       "    <tr>\n",
       "      <th>0</th>\n",
       "      <td>0.524793</td>\n",
       "      <td>0.490196</td>\n",
       "      <td>0.755701</td>\n",
       "      <td>0.666667</td>\n",
       "      <td>0.755701</td>\n",
       "      <td>0.542755</td>\n",
       "      <td>0.582353</td>\n",
       "      <td>0.542866</td>\n",
       "      <td>0.595750</td>\n",
       "      <td>0.408451</td>\n",
       "      <td>...</td>\n",
       "      <td>0.0</td>\n",
       "      <td>0.0</td>\n",
       "      <td>0.0</td>\n",
       "      <td>0.0</td>\n",
       "      <td>0.0</td>\n",
       "      <td>0.0</td>\n",
       "      <td>1.0</td>\n",
       "      <td>0.0</td>\n",
       "      <td>0.0</td>\n",
       "      <td>1.0</td>\n",
       "    </tr>\n",
       "    <tr>\n",
       "      <th>1</th>\n",
       "      <td>0.438017</td>\n",
       "      <td>0.509804</td>\n",
       "      <td>0.460661</td>\n",
       "      <td>0.745455</td>\n",
       "      <td>0.460597</td>\n",
       "      <td>0.537531</td>\n",
       "      <td>0.605882</td>\n",
       "      <td>0.537690</td>\n",
       "      <td>0.621840</td>\n",
       "      <td>0.492958</td>\n",
       "      <td>...</td>\n",
       "      <td>0.0</td>\n",
       "      <td>0.0</td>\n",
       "      <td>0.0</td>\n",
       "      <td>0.0</td>\n",
       "      <td>0.0</td>\n",
       "      <td>0.0</td>\n",
       "      <td>1.0</td>\n",
       "      <td>0.0</td>\n",
       "      <td>0.0</td>\n",
       "      <td>1.0</td>\n",
       "    </tr>\n",
       "    <tr>\n",
       "      <th>2</th>\n",
       "      <td>0.561983</td>\n",
       "      <td>0.000000</td>\n",
       "      <td>0.693843</td>\n",
       "      <td>0.690909</td>\n",
       "      <td>0.693830</td>\n",
       "      <td>0.333242</td>\n",
       "      <td>0.647059</td>\n",
       "      <td>0.333225</td>\n",
       "      <td>0.374933</td>\n",
       "      <td>0.500000</td>\n",
       "      <td>...</td>\n",
       "      <td>0.0</td>\n",
       "      <td>0.0</td>\n",
       "      <td>0.0</td>\n",
       "      <td>0.0</td>\n",
       "      <td>0.0</td>\n",
       "      <td>0.0</td>\n",
       "      <td>1.0</td>\n",
       "      <td>0.0</td>\n",
       "      <td>0.0</td>\n",
       "      <td>0.0</td>\n",
       "    </tr>\n",
       "    <tr>\n",
       "      <th>3</th>\n",
       "      <td>0.342975</td>\n",
       "      <td>0.000000</td>\n",
       "      <td>0.853478</td>\n",
       "      <td>0.430303</td>\n",
       "      <td>0.853454</td>\n",
       "      <td>0.170195</td>\n",
       "      <td>0.517647</td>\n",
       "      <td>0.170171</td>\n",
       "      <td>0.467187</td>\n",
       "      <td>0.394366</td>\n",
       "      <td>...</td>\n",
       "      <td>0.0</td>\n",
       "      <td>0.0</td>\n",
       "      <td>0.0</td>\n",
       "      <td>0.0</td>\n",
       "      <td>0.0</td>\n",
       "      <td>0.0</td>\n",
       "      <td>0.0</td>\n",
       "      <td>0.0</td>\n",
       "      <td>1.0</td>\n",
       "      <td>0.0</td>\n",
       "    </tr>\n",
       "    <tr>\n",
       "      <th>4</th>\n",
       "      <td>0.305785</td>\n",
       "      <td>0.000000</td>\n",
       "      <td>0.475200</td>\n",
       "      <td>0.684848</td>\n",
       "      <td>0.475184</td>\n",
       "      <td>0.407754</td>\n",
       "      <td>0.717647</td>\n",
       "      <td>0.407959</td>\n",
       "      <td>0.440290</td>\n",
       "      <td>0.619718</td>\n",
       "      <td>...</td>\n",
       "      <td>0.0</td>\n",
       "      <td>0.0</td>\n",
       "      <td>0.0</td>\n",
       "      <td>0.0</td>\n",
       "      <td>0.0</td>\n",
       "      <td>0.0</td>\n",
       "      <td>1.0</td>\n",
       "      <td>0.0</td>\n",
       "      <td>1.0</td>\n",
       "      <td>0.0</td>\n",
       "    </tr>\n",
       "  </tbody>\n",
       "</table>\n",
       "<p>5 rows × 70 columns</p>\n",
       "</div>"
      ],
      "text/plain": [
       "   account length  number vmail messages  total day minutes  total day calls  \\\n",
       "0        0.524793               0.490196           0.755701         0.666667   \n",
       "1        0.438017               0.509804           0.460661         0.745455   \n",
       "2        0.561983               0.000000           0.693843         0.690909   \n",
       "3        0.342975               0.000000           0.853478         0.430303   \n",
       "4        0.305785               0.000000           0.475200         0.684848   \n",
       "\n",
       "   total day charge  total eve minutes  total eve calls  total eve charge  \\\n",
       "0          0.755701           0.542755         0.582353          0.542866   \n",
       "1          0.460597           0.537531         0.605882          0.537690   \n",
       "2          0.693830           0.333242         0.647059          0.333225   \n",
       "3          0.853454           0.170195         0.517647          0.170171   \n",
       "4          0.475184           0.407754         0.717647          0.407959   \n",
       "\n",
       "   total night minutes  total night calls  ...  state_VA  state_VT  state_WA  \\\n",
       "0             0.595750           0.408451  ...       0.0       0.0       0.0   \n",
       "1             0.621840           0.492958  ...       0.0       0.0       0.0   \n",
       "2             0.374933           0.500000  ...       0.0       0.0       0.0   \n",
       "3             0.467187           0.394366  ...       0.0       0.0       0.0   \n",
       "4             0.440290           0.619718  ...       0.0       0.0       0.0   \n",
       "\n",
       "   state_WI  state_WV  state_WY  area code_415  area code_510  \\\n",
       "0       0.0       0.0       0.0            1.0            0.0   \n",
       "1       0.0       0.0       0.0            1.0            0.0   \n",
       "2       0.0       0.0       0.0            1.0            0.0   \n",
       "3       0.0       0.0       0.0            0.0            0.0   \n",
       "4       0.0       0.0       0.0            1.0            0.0   \n",
       "\n",
       "   international plan_1  voice mail plan_1  \n",
       "0                   0.0                1.0  \n",
       "1                   0.0                1.0  \n",
       "2                   0.0                0.0  \n",
       "3                   1.0                0.0  \n",
       "4                   1.0                0.0  \n",
       "\n",
       "[5 rows x 70 columns]"
      ]
     },
     "execution_count": 38,
     "metadata": {},
     "output_type": "execute_result"
    }
   ],
   "source": [
    "scaler = MinMaxScaler()\n",
    "ohe_df_scaled = ohe_df.copy()\n",
    "def scaling_func(df, col):\n",
    "    df = df\n",
    "    return scaler.fit_transform(df[col].values.reshape(-1,1))\n",
    "\n",
    "for i in ohe_df.select_dtypes(include=[np.number]).columns:\n",
    "    ohe_df[i] = scaling_func(ohe_df, i)\n",
    "ohe_df.head()\n"
   ]
  },
  {
   "cell_type": "markdown",
   "metadata": {},
   "source": [
    "# Model #1"
   ]
  },
  {
   "cell_type": "markdown",
   "metadata": {},
   "source": [
    "Our first model will be a logistic regression model. This model will be used as a baseline for other models to compare against to see if they are improved over this one. This model will contain only the base scaling and OHE changes so that we can alter subsequent iterations of the model. "
   ]
  },
  {
   "cell_type": "code",
   "execution_count": 48,
   "metadata": {},
   "outputs": [],
   "source": [
    "lr = LogisticRegression(C=1e12, solver='liblinear')\n",
    "model_log = lr.fit(x_train, y_train)\n",
    "y_lr_pred_train = lr.predict(x_train)"
   ]
  },
  {
   "cell_type": "code",
   "execution_count": 49,
   "metadata": {},
   "outputs": [],
   "source": [
    "train_resids = np.abs(y_train - y_lr_pred_train)"
   ]
  },
  {
   "cell_type": "code",
   "execution_count": 63,
   "metadata": {},
   "outputs": [
    {
     "name": "stdout",
     "output_type": "stream",
     "text": [
      "Residuals (counts)\n",
      "0    2175\n",
      "1     324\n",
      "Name: count, dtype: int64\n",
      "-------------------------\n",
      "Residuals (proportions)\n",
      "0    0.870348\n",
      "1    0.129652\n",
      "Name: proportion, dtype: float64\n"
     ]
    }
   ],
   "source": [
    "print(pd.Series(train_resids, name = \"Residuals (counts)\").value_counts())\n",
    "print('-------------------------')\n",
    "print(pd.Series(train_resids, name = \"Residuals (proportions)\").value_counts(normalize=True))"
   ]
  },
  {
   "cell_type": "markdown",
   "metadata": {},
   "source": [
    "This model is doing pretty well, being about 87% correct on training data. Now we can use this on the test data to see how it fairs with unseen data."
   ]
  },
  {
   "cell_type": "code",
   "execution_count": 62,
   "metadata": {},
   "outputs": [
    {
     "name": "stdout",
     "output_type": "stream",
     "text": [
      "Residuals (counts)\n",
      "0    709\n",
      "1    125\n",
      "Name: count, dtype: int64\n",
      "-------------------------\n",
      "Residuals (proportions)\n",
      "0    0.85012\n",
      "1    0.14988\n",
      "Name: proportion, dtype: float64\n"
     ]
    }
   ],
   "source": [
    "y_lr_pred_test = lr.predict(x_test)\n",
    "\n",
    "test_residuals = np.abs(y_test - y_lr_pred_test)\n",
    "print(pd.Series(test_residuals, name=\"Residuals (counts)\").value_counts())\n",
    "print('-------------------------')\n",
    "print(pd.Series(test_residuals, name=\"Residuals (proportions)\").value_counts(normalize=True))"
   ]
  },
  {
   "cell_type": "code",
   "execution_count": 58,
   "metadata": {
    "scrolled": true
   },
   "outputs": [
    {
     "data": {
      "text/plain": [
       "<sklearn.metrics._plot.confusion_matrix.ConfusionMatrixDisplay at 0x1c9c96ccf40>"
      ]
     },
     "execution_count": 58,
     "metadata": {},
     "output_type": "execute_result"
    },
    {
     "data": {
      "image/png": "[encoded data removed]",
      "text/plain": [
       "<Figure size 432x288 with 2 Axes>"
      ]
     },
     "metadata": {
      "needs_background": "light"
     },
     "output_type": "display_data"
    }
   ],
   "source": [
    "cf = confusion_matrix(y_test, y_lr_pred_test)\n",
    "disp = ConfusionMatrixDisplay(confusion_matrix=cf, display_labels=model_log.classes_)\n",
    "disp.plot(cmap=plt.cm.Blues)"
   ]
  },
  {
   "cell_type": "markdown",
   "metadata": {},
   "source": [
    "The confusion matrix above shows that it predicts true negatives really well, but does have a higher then desirable false negative rate.This model also tested failry well, being about 85% correct on training data. While this is good, we can try altering a few things and even try different models to see whats the best fit."
   ]
  },
  {
   "cell_type": "markdown",
   "metadata": {},
   "source": [
    "## SMOTE\n",
    "\n",
    "Smote balances the minority class (churn) with the majority class (no churn) to help with over fitting. While the test above did failry well, this can help it function even better."
   ]
  },
  {
   "cell_type": "code",
   "execution_count": 66,
   "metadata": {},
   "outputs": [],
   "source": [
    "smote = SMOTE()\n",
    "x_train_resampled, y_train_resampled = smote.fit_resample(x_train, y_train)"
   ]
  },
  {
   "cell_type": "markdown",
   "metadata": {},
   "source": [
    "Now let's run the above model again to see if we get an improvement "
   ]
  },
  {
   "cell_type": "code",
   "execution_count": 70,
   "metadata": {},
   "outputs": [],
   "source": [
    "model_log_re = lr.fit(x_train_resampled, y_train_resampled)\n",
    "y_lr_pred_train_re = lr.predict(x_train_resampled)\n",
    "train_resids_re = np.abs(y_train_resampled - y_lr_pred_train_re)"
   ]
  },
  {
   "cell_type": "code",
   "execution_count": 71,
   "metadata": {},
   "outputs": [
    {
     "name": "stdout",
     "output_type": "stream",
     "text": [
      "Residuals (counts)\n",
      "0    3931\n",
      "1     365\n",
      "Name: count, dtype: int64\n",
      "-------------------------\n",
      "Residuals (proportions)\n",
      "0    0.915037\n",
      "1    0.084963\n",
      "Name: proportion, dtype: float64\n"
     ]
    }
   ],
   "source": [
    "print(pd.Series(train_resids_re, name = \"Residuals (counts)\").value_counts())\n",
    "print('-------------------------')\n",
    "print(pd.Series(train_resids_re, name = \"Residuals (proportions)\").value_counts(normalize=True))"
   ]
  },
  {
   "cell_type": "code",
   "execution_count": 75,
   "metadata": {},
   "outputs": [
    {
     "data": {
      "text/plain": [
       "<sklearn.metrics._plot.confusion_matrix.ConfusionMatrixDisplay at 0x1c9c99bc8e0>"
      ]
     },
     "execution_count": 75,
     "metadata": {},
     "output_type": "execute_result"
    },
    {
     "data": {
      "image/png": "[encoded data removed]",
      "text/plain": [
       "<Figure size 432x288 with 2 Axes>"
      ]
     },
     "metadata": {
      "needs_background": "light"
     },
     "output_type": "display_data"
    }
   ],
   "source": [
    "cf = confusion_matrix(y_train_resampled, y_lr_pred_train_re)\n",
    "disp = ConfusionMatrixDisplay(confusion_matrix=cf, display_labels=model_log.classes_)\n",
    "disp.plot(cmap=plt.cm.Blues)"
   ]
  },
  {
   "cell_type": "markdown",
   "metadata": {},
   "source": [
    "The model with smote is about 6% better. While this isn't to large of an increase, the amount of time and effort to get that increase is very small, so the value seems to be worth it. "
   ]
  },
  {
   "cell_type": "code",
   "execution_count": null,
   "metadata": {},
   "outputs": [],
   "source": []
  }
 ],
 "metadata": {
  "kernelspec": {
   "display_name": "python (learn-env)",
   "language": "python",
   "name": "learn-env"
  },
  "language_info": {
   "codemirror_mode": {
    "name": "ipython",
    "version": 3
   },
   "file_extension": ".py",
   "mimetype": "text/x-python",
   "name": "python",
   "nbconvert_exporter": "python",
   "pygments_lexer": "ipython3",
   "version": "3.8.5"
  }
 },
 "nbformat": 4,
 "nbformat_minor": 4
}
